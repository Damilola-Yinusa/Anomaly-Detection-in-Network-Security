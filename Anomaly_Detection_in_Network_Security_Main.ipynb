{
 "cells": [
  {
   "cell_type": "markdown",
   "id": "2aa2e9d8",
   "metadata": {},
   "source": [
    "\n",
    "-------------------------------------------------------------------------------\n",
    "Network Intrusion Detection using Machine Learning on UNSW-NB15 Dataset\n",
    "-------------------------------------------------------------------------------\n",
    "\n",
    "Author: Damilola Yinusa\n",
    "Date: 01/09/2023\n",
    "Version: 1.0\n",
    "\n",
    "Description:\n",
    "This program aims to identify and classify network intrusions using various machine learning algorithms. \n",
    "The UNSW-NB15 dataset serves as the training and testing data. The program employs preprocessing techniques \n",
    "such as one-hot encoding and feature scaling before fitting the data to machine learning models. \n",
    "\n",
    "Key Results:\n",
    "- Final model used: RandomForestClassifier\n",
    "- Model accuracy: 0.8857 (88.57%)\n",
    "\n",
    "Classification Report:\n",
    "              precision    recall  f1-score   support\n",
    "           0       0.75      0.97      0.84     56000\n",
    "           1       0.98      0.85      0.91    119341\n",
    "    accuracy                           0.89    175341\n",
    "   macro avg       0.87      0.91      0.88    175341\n",
    "weighted avg       0.91      0.89      0.89    175341\n",
    "\n",
    "Training Procedure:\n",
    "The model was trained using a 5-fold cross-validation scheme with RandomizedSearchCV to optimize the hyperparameters.\n",
    "\n",
    "-------------------------------------------------------------------------------\n"
   ]
  },
  {
   "cell_type": "markdown",
   "id": "1b1de25d",
   "metadata": {},
   "source": [
    "## Import Required Libraries"
   ]
  },
  {
   "cell_type": "code",
   "execution_count": 1,
   "id": "b0355d7f",
   "metadata": {},
   "outputs": [],
   "source": [
    "import pandas as pd\n",
    "import numpy as np\n",
    "import seaborn as sns\n",
    "from sklearn.metrics import classification_report\n",
    "from sklearn.metrics import confusion_matrix\n",
    "from sklearn.preprocessing import StandardScaler, LabelEncoder, OneHotEncoder\n",
    "from sklearn.decomposition import PCA\n",
    "from sklearn.ensemble import RandomForestClassifier\n",
    "from sklearn.pipeline import Pipeline\n",
    "from sklearn.model_selection import RandomizedSearchCV\n",
    "from sklearn.metrics import accuracy_score\n",
    "import matplotlib.pyplot as plt\n",
    "\n"
   ]
  },
  {
   "cell_type": "markdown",
   "id": "bcfc2161",
   "metadata": {},
   "source": [
    "## Load the Data"
   ]
  },
  {
   "cell_type": "code",
   "execution_count": 2,
   "id": "92ade6c7",
   "metadata": {},
   "outputs": [],
   "source": [
    "# Load datasets #4\n",
    "train_df = pd.read_csv('UNSW_NB15_training-set.csv')\n",
    "test_df = pd.read_csv('UNSW_NB15_testing-set.csv')"
   ]
  },
  {
   "cell_type": "markdown",
   "id": "0f480589",
   "metadata": {},
   "source": [
    "## Preprocess the Data"
   ]
  },
  {
   "cell_type": "code",
   "execution_count": 3,
   "id": "10ff7113",
   "metadata": {},
   "outputs": [],
   "source": [
    "# Combine train and test data for preprocessing #6\n",
    "combined_df = pd.concat([train_df, test_df], ignore_index=True)\n",
    "\n",
    "# Drop unnecessary columns\n",
    "drop_columns = ['id', 'attack_cat']\n",
    "combined_df = combined_df.drop(columns=drop_columns)\n",
    "\n",
    "# Separate features and target labels\n",
    "X = combined_df.drop('label', axis=1)\n",
    "y = combined_df['label']\n"
   ]
  },
  {
   "cell_type": "markdown",
   "id": "4edcbb91",
   "metadata": {},
   "source": [
    "### Label Encoding and One-Hot Encoding"
   ]
  },
  {
   "cell_type": "code",
   "execution_count": 4,
   "id": "e39db77e",
   "metadata": {},
   "outputs": [],
   "source": [
    "# Label Encoding for categorical columns #9\n",
    "label_columns = ['proto', 'service', 'state']\n",
    "label_encoder = LabelEncoder()\n",
    "for column in label_columns:\n",
    "    X[column] = label_encoder.fit_transform(X[column])\n",
    "# One-hot encoding for categorical columns\n",
    "X = pd.get_dummies(X, columns=label_columns)\n"
   ]
  },
  {
   "cell_type": "markdown",
   "id": "45d0dd95",
   "metadata": {},
   "source": [
    "### Standard Scaling"
   ]
  },
  {
   "cell_type": "code",
   "execution_count": 5,
   "id": "0229bbae",
   "metadata": {},
   "outputs": [],
   "source": [
    "# Standard Scaling for numerical columns #469\n",
    "scaler = StandardScaler()\n",
    "X_scaled = scaler.fit_transform(X)"
   ]
  },
  {
   "cell_type": "markdown",
   "id": "d9997911",
   "metadata": {},
   "source": [
    "## Apply PCA"
   ]
  },
  {
   "cell_type": "code",
   "execution_count": 6,
   "id": "edcc0d03",
   "metadata": {},
   "outputs": [],
   "source": [
    "# Apply PCA\n",
    "pca = PCA(n_components=0.95)  # Keeping 95% of the variance\n",
    "X_pca = pca.fit_transform(X_scaled)"
   ]
  },
  {
   "cell_type": "markdown",
   "id": "06796382",
   "metadata": {},
   "source": [
    "## Split Data Back into Training and Testing Sets"
   ]
  },
  {
   "cell_type": "code",
   "execution_count": 7,
   "id": "611bd0af",
   "metadata": {},
   "outputs": [],
   "source": [
    "# Split the data back into training and testing sets\n",
    "train_length = len(train_df)\n",
    "X_train_pca = X_pca[:train_length]\n",
    "X_test_pca = X_pca[train_length:]\n",
    "y_train = y[:train_length]\n",
    "y_test = y[train_length:]\n"
   ]
  },
  {
   "cell_type": "markdown",
   "id": "05ae5673",
   "metadata": {},
   "source": [
    "using `X_train_pca` and `X_test_pca` for further modeling."
   ]
  },
  {
   "cell_type": "markdown",
   "id": "2dd441b3",
   "metadata": {},
   "source": [
    "# Model Training Using Random Search for Hyperparameter Tuning"
   ]
  },
  {
   "cell_type": "code",
   "execution_count": 8,
   "id": "3df303d4",
   "metadata": {},
   "outputs": [
    {
     "name": "stdout",
     "output_type": "stream",
     "text": [
      "Fitting 5 folds for each of 100 candidates, totalling 500 fits\n"
     ]
    },
    {
     "data": {
      "text/html": [
       "<style>#sk-container-id-1 {color: black;}#sk-container-id-1 pre{padding: 0;}#sk-container-id-1 div.sk-toggleable {background-color: white;}#sk-container-id-1 label.sk-toggleable__label {cursor: pointer;display: block;width: 100%;margin-bottom: 0;padding: 0.3em;box-sizing: border-box;text-align: center;}#sk-container-id-1 label.sk-toggleable__label-arrow:before {content: \"▸\";float: left;margin-right: 0.25em;color: #696969;}#sk-container-id-1 label.sk-toggleable__label-arrow:hover:before {color: black;}#sk-container-id-1 div.sk-estimator:hover label.sk-toggleable__label-arrow:before {color: black;}#sk-container-id-1 div.sk-toggleable__content {max-height: 0;max-width: 0;overflow: hidden;text-align: left;background-color: #f0f8ff;}#sk-container-id-1 div.sk-toggleable__content pre {margin: 0.2em;color: black;border-radius: 0.25em;background-color: #f0f8ff;}#sk-container-id-1 input.sk-toggleable__control:checked~div.sk-toggleable__content {max-height: 200px;max-width: 100%;overflow: auto;}#sk-container-id-1 input.sk-toggleable__control:checked~label.sk-toggleable__label-arrow:before {content: \"▾\";}#sk-container-id-1 div.sk-estimator input.sk-toggleable__control:checked~label.sk-toggleable__label {background-color: #d4ebff;}#sk-container-id-1 div.sk-label input.sk-toggleable__control:checked~label.sk-toggleable__label {background-color: #d4ebff;}#sk-container-id-1 input.sk-hidden--visually {border: 0;clip: rect(1px 1px 1px 1px);clip: rect(1px, 1px, 1px, 1px);height: 1px;margin: -1px;overflow: hidden;padding: 0;position: absolute;width: 1px;}#sk-container-id-1 div.sk-estimator {font-family: monospace;background-color: #f0f8ff;border: 1px dotted black;border-radius: 0.25em;box-sizing: border-box;margin-bottom: 0.5em;}#sk-container-id-1 div.sk-estimator:hover {background-color: #d4ebff;}#sk-container-id-1 div.sk-parallel-item::after {content: \"\";width: 100%;border-bottom: 1px solid gray;flex-grow: 1;}#sk-container-id-1 div.sk-label:hover label.sk-toggleable__label {background-color: #d4ebff;}#sk-container-id-1 div.sk-serial::before {content: \"\";position: absolute;border-left: 1px solid gray;box-sizing: border-box;top: 0;bottom: 0;left: 50%;z-index: 0;}#sk-container-id-1 div.sk-serial {display: flex;flex-direction: column;align-items: center;background-color: white;padding-right: 0.2em;padding-left: 0.2em;position: relative;}#sk-container-id-1 div.sk-item {position: relative;z-index: 1;}#sk-container-id-1 div.sk-parallel {display: flex;align-items: stretch;justify-content: center;background-color: white;position: relative;}#sk-container-id-1 div.sk-item::before, #sk-container-id-1 div.sk-parallel-item::before {content: \"\";position: absolute;border-left: 1px solid gray;box-sizing: border-box;top: 0;bottom: 0;left: 50%;z-index: -1;}#sk-container-id-1 div.sk-parallel-item {display: flex;flex-direction: column;z-index: 1;position: relative;background-color: white;}#sk-container-id-1 div.sk-parallel-item:first-child::after {align-self: flex-end;width: 50%;}#sk-container-id-1 div.sk-parallel-item:last-child::after {align-self: flex-start;width: 50%;}#sk-container-id-1 div.sk-parallel-item:only-child::after {width: 0;}#sk-container-id-1 div.sk-dashed-wrapped {border: 1px dashed gray;margin: 0 0.4em 0.5em 0.4em;box-sizing: border-box;padding-bottom: 0.4em;background-color: white;}#sk-container-id-1 div.sk-label label {font-family: monospace;font-weight: bold;display: inline-block;line-height: 1.2em;}#sk-container-id-1 div.sk-label-container {text-align: center;}#sk-container-id-1 div.sk-container {/* jupyter's `normalize.less` sets `[hidden] { display: none; }` but bootstrap.min.css set `[hidden] { display: none !important; }` so we also need the `!important` here to be able to override the default hidden behavior on the sphinx rendered scikit-learn.org. See: https://github.com/scikit-learn/scikit-learn/issues/21755 */display: inline-block !important;position: relative;}#sk-container-id-1 div.sk-text-repr-fallback {display: none;}</style><div id=\"sk-container-id-1\" class=\"sk-top-container\"><div class=\"sk-text-repr-fallback\"><pre>Pipeline(steps=[(&#x27;model&#x27;,\n",
       "                 RandomizedSearchCV(cv=5, estimator=RandomForestClassifier(),\n",
       "                                    n_iter=100, n_jobs=-1,\n",
       "                                    param_distributions={&#x27;max_depth&#x27;: [None, 10,\n",
       "                                                                       20, 30],\n",
       "                                                         &#x27;min_samples_leaf&#x27;: [1,\n",
       "                                                                              2,\n",
       "                                                                              4],\n",
       "                                                         &#x27;min_samples_split&#x27;: [2,\n",
       "                                                                               5,\n",
       "                                                                               10],\n",
       "                                                         &#x27;n_estimators&#x27;: [10,\n",
       "                                                                          50,\n",
       "                                                                          100,\n",
       "                                                                          200]},\n",
       "                                    random_state=42, verbose=2))])</pre><b>In a Jupyter environment, please rerun this cell to show the HTML representation or trust the notebook. <br />On GitHub, the HTML representation is unable to render, please try loading this page with nbviewer.org.</b></div><div class=\"sk-container\" hidden><div class=\"sk-item sk-dashed-wrapped\"><div class=\"sk-label-container\"><div class=\"sk-label sk-toggleable\"><input class=\"sk-toggleable__control sk-hidden--visually\" id=\"sk-estimator-id-1\" type=\"checkbox\" ><label for=\"sk-estimator-id-1\" class=\"sk-toggleable__label sk-toggleable__label-arrow\">Pipeline</label><div class=\"sk-toggleable__content\"><pre>Pipeline(steps=[(&#x27;model&#x27;,\n",
       "                 RandomizedSearchCV(cv=5, estimator=RandomForestClassifier(),\n",
       "                                    n_iter=100, n_jobs=-1,\n",
       "                                    param_distributions={&#x27;max_depth&#x27;: [None, 10,\n",
       "                                                                       20, 30],\n",
       "                                                         &#x27;min_samples_leaf&#x27;: [1,\n",
       "                                                                              2,\n",
       "                                                                              4],\n",
       "                                                         &#x27;min_samples_split&#x27;: [2,\n",
       "                                                                               5,\n",
       "                                                                               10],\n",
       "                                                         &#x27;n_estimators&#x27;: [10,\n",
       "                                                                          50,\n",
       "                                                                          100,\n",
       "                                                                          200]},\n",
       "                                    random_state=42, verbose=2))])</pre></div></div></div><div class=\"sk-serial\"><div class=\"sk-item sk-dashed-wrapped\"><div class=\"sk-label-container\"><div class=\"sk-label sk-toggleable\"><input class=\"sk-toggleable__control sk-hidden--visually\" id=\"sk-estimator-id-2\" type=\"checkbox\" ><label for=\"sk-estimator-id-2\" class=\"sk-toggleable__label sk-toggleable__label-arrow\">model: RandomizedSearchCV</label><div class=\"sk-toggleable__content\"><pre>RandomizedSearchCV(cv=5, estimator=RandomForestClassifier(), n_iter=100,\n",
       "                   n_jobs=-1,\n",
       "                   param_distributions={&#x27;max_depth&#x27;: [None, 10, 20, 30],\n",
       "                                        &#x27;min_samples_leaf&#x27;: [1, 2, 4],\n",
       "                                        &#x27;min_samples_split&#x27;: [2, 5, 10],\n",
       "                                        &#x27;n_estimators&#x27;: [10, 50, 100, 200]},\n",
       "                   random_state=42, verbose=2)</pre></div></div></div><div class=\"sk-parallel\"><div class=\"sk-parallel-item\"><div class=\"sk-item\"><div class=\"sk-label-container\"><div class=\"sk-label sk-toggleable\"><input class=\"sk-toggleable__control sk-hidden--visually\" id=\"sk-estimator-id-3\" type=\"checkbox\" ><label for=\"sk-estimator-id-3\" class=\"sk-toggleable__label sk-toggleable__label-arrow\">estimator: RandomForestClassifier</label><div class=\"sk-toggleable__content\"><pre>RandomForestClassifier()</pre></div></div></div><div class=\"sk-serial\"><div class=\"sk-item\"><div class=\"sk-estimator sk-toggleable\"><input class=\"sk-toggleable__control sk-hidden--visually\" id=\"sk-estimator-id-4\" type=\"checkbox\" ><label for=\"sk-estimator-id-4\" class=\"sk-toggleable__label sk-toggleable__label-arrow\">RandomForestClassifier</label><div class=\"sk-toggleable__content\"><pre>RandomForestClassifier()</pre></div></div></div></div></div></div></div></div></div></div></div></div>"
      ],
      "text/plain": [
       "Pipeline(steps=[('model',\n",
       "                 RandomizedSearchCV(cv=5, estimator=RandomForestClassifier(),\n",
       "                                    n_iter=100, n_jobs=-1,\n",
       "                                    param_distributions={'max_depth': [None, 10,\n",
       "                                                                       20, 30],\n",
       "                                                         'min_samples_leaf': [1,\n",
       "                                                                              2,\n",
       "                                                                              4],\n",
       "                                                         'min_samples_split': [2,\n",
       "                                                                               5,\n",
       "                                                                               10],\n",
       "                                                         'n_estimators': [10,\n",
       "                                                                          50,\n",
       "                                                                          100,\n",
       "                                                                          200]},\n",
       "                                    random_state=42, verbose=2))])"
      ]
     },
     "execution_count": 8,
     "metadata": {},
     "output_type": "execute_result"
    }
   ],
   "source": [
    "# Define the model\n",
    "rf = RandomForestClassifier()\n",
    "\n",
    "# Create the hyperparameter grid\n",
    "param_dist = {\n",
    "    'n_estimators': [10, 50, 100, 200],\n",
    "    'max_depth': [None, 10, 20, 30],\n",
    "    'min_samples_split': [2, 5, 10],\n",
    "    'min_samples_leaf': [1, 2, 4]\n",
    "}\n",
    "\n",
    "# Create and evaluate the pipeline\n",
    "pipeline = Pipeline(steps=[('model', RandomizedSearchCV(rf, param_distributions=param_dist, n_iter=100, cv=5, verbose=2, random_state=42, n_jobs=-1))])\n",
    "\n",
    "# Preprocessing of training data, fit model \n",
    "pipeline.fit(X_train_pca, y_train)\n"
   ]
  },
  {
   "cell_type": "markdown",
   "id": "8d7196e4",
   "metadata": {},
   "source": [
    "# Model Evaluation"
   ]
  },
  {
   "cell_type": "code",
   "execution_count": 9,
   "id": "99e9a479",
   "metadata": {},
   "outputs": [
    {
     "name": "stdout",
     "output_type": "stream",
     "text": [
      "Accuracy: 0.8855886529676459\n"
     ]
    }
   ],
   "source": [
    "# Preprocessing of validation data, get predictions\n",
    "preds = pipeline.predict(X_test_pca)\n",
    "\n",
    "# Evaluate the model\n",
    "score = accuracy_score(y_test, preds)\n",
    "print('Accuracy:', score)\n"
   ]
  },
  {
   "cell_type": "markdown",
   "id": "d42d95b3",
   "metadata": {},
   "source": [
    "##### Feature Importances"
   ]
  },
  {
   "cell_type": "code",
   "execution_count": 10,
   "id": "223817f5",
   "metadata": {},
   "outputs": [
    {
     "data": {
      "text/plain": [
       "<Figure size 2000x1000 with 0 Axes>"
      ]
     },
     "metadata": {},
     "output_type": "display_data"
    },
    {
     "data": {
      "image/png": "[encoded data removed]",
      "text/plain": [
       "<Figure size 640x480 with 1 Axes>"
      ]
     },
     "metadata": {},
     "output_type": "display_data"
    }
   ],
   "source": [
    "#469 # Assuming my trained Random Forest model is stored in a variable named 'rf_random'\n",
    "feature_importances = pipeline.named_steps['model'].best_estimator_.feature_importances_\n",
    "\n",
    "# Creating a DataFrame for feature importances\n",
    "feature_importance_df = pd.DataFrame({'Importance': feature_importances})\n",
    "\n",
    "# Plotting\n",
    "plt.figure(figsize=(20, 10))\n",
    "feature_importance_df.sort_values('Importance', ascending=False).plot(kind='bar')\n",
    "plt.xlabel('Feature Index')\n",
    "plt.ylabel('Importance')\n",
    "plt.title('Feature Importance')\n",
    "plt.show()\n"
   ]
  },
  {
   "cell_type": "markdown",
   "id": "e231bbb3",
   "metadata": {},
   "source": [
    "##### Confusion Matrix"
   ]
  },
  {
   "cell_type": "code",
   "execution_count": 11,
   "id": "50e5d354",
   "metadata": {},
   "outputs": [
    {
     "data": {
      "image/png": "[encoded data removed]",
      "text/plain": [
       "<Figure size 1000x700 with 2 Axes>"
      ]
     },
     "metadata": {},
     "output_type": "display_data"
    }
   ],
   "source": [
    "# Assuming my test set labels are stored in a variable named 'y_test'\n",
    "y_pred = pipeline.predict(X_test_pca)\n",
    "conf_matrix = confusion_matrix(y_test, y_pred)\n",
    "\n",
    "# Plotting the confusion matrix\n",
    "plt.figure(figsize=(10, 7))\n",
    "sns.heatmap(conf_matrix, annot=True, fmt='g')\n",
    "plt.xlabel('Predicted')\n",
    "plt.ylabel('Actual')\n",
    "plt.title('Confusion Matrix')\n",
    "plt.show()\n"
   ]
  },
  {
   "cell_type": "markdown",
   "id": "090f1f9d",
   "metadata": {},
   "source": [
    "##### Classification Report"
   ]
  },
  {
   "cell_type": "code",
   "execution_count": 12,
   "id": "8f4d81ee",
   "metadata": {},
   "outputs": [
    {
     "name": "stdout",
     "output_type": "stream",
     "text": [
      "              precision    recall  f1-score   support\n",
      "\n",
      "           0       0.75      0.97      0.84     56000\n",
      "           1       0.98      0.85      0.91    119341\n",
      "\n",
      "    accuracy                           0.89    175341\n",
      "   macro avg       0.87      0.91      0.88    175341\n",
      "weighted avg       0.91      0.89      0.89    175341\n",
      "\n"
     ]
    }
   ],
   "source": [
    "print(classification_report(y_test, y_pred))"
   ]
  },
  {
   "cell_type": "markdown",
   "id": "bd713230",
   "metadata": {},
   "source": [
    "# Section: Optimized Model\n",
    "This section contains the optimized model using XGBoost."
   ]
  },
  {
   "cell_type": "markdown",
   "id": "1c6415fc",
   "metadata": {},
   "source": [
    "## Anomaly Detection in Network Security with Optimizations"
   ]
  },
  {
   "cell_type": "code",
   "execution_count": 13,
   "id": "3877a2d6",
   "metadata": {},
   "outputs": [
    {
     "name": "stdout",
     "output_type": "stream",
     "text": [
      "Requirement already satisfied: xgboost in c:\\users\\user\\appdata\\local\\packages\\pythonsoftwarefoundation.python.3.11_qbz5n2kfra8p0\\localcache\\local-packages\\python311\\site-packages (1.7.6)\n",
      "Requirement already satisfied: numpy in c:\\users\\user\\appdata\\local\\packages\\pythonsoftwarefoundation.python.3.11_qbz5n2kfra8p0\\localcache\\local-packages\\python311\\site-packages (from xgboost) (1.25.2)\n",
      "Requirement already satisfied: scipy in c:\\users\\user\\appdata\\local\\packages\\pythonsoftwarefoundation.python.3.11_qbz5n2kfra8p0\\localcache\\local-packages\\python311\\site-packages (from xgboost) (1.11.2)\n"
     ]
    }
   ],
   "source": [
    "!pip install xgboost"
   ]
  },
  {
   "cell_type": "code",
   "execution_count": 14,
   "id": "ecb01336",
   "metadata": {},
   "outputs": [],
   "source": [
    "\n",
    "import pandas as pd\n",
    "import numpy as np\n",
    "from sklearn.preprocessing import StandardScaler, LabelEncoder, OneHotEncoder\n",
    "from sklearn.decomposition import PCA\n",
    "from sklearn.ensemble import RandomForestClassifier\n",
    "from sklearn.model_selection import RandomizedSearchCV\n",
    "from sklearn.pipeline import Pipeline\n",
    "from sklearn.metrics import accuracy_score, confusion_matrix, classification_report\n",
    "import matplotlib.pyplot as plt\n",
    "import seaborn as sns\n",
    "from xgboost import XGBClassifier\n"
   ]
  },
  {
   "cell_type": "code",
   "execution_count": 15,
   "id": "213d36c6",
   "metadata": {},
   "outputs": [],
   "source": [
    "\n",
    "# Load the data\n",
    "train_df = pd.read_csv('UNSW_NB15_training-set.csv')\n",
    "test_df = pd.read_csv('UNSW_NB15_testing-set.csv')\n"
   ]
  },
  {
   "cell_type": "code",
   "execution_count": 16,
   "id": "9c94a282",
   "metadata": {},
   "outputs": [],
   "source": [
    "\n",
    "# Combine train and test data for preprocessing\n",
    "combined_df = pd.concat([train_df, test_df], ignore_index=True)\n",
    "\n",
    "# Drop unnecessary columns\n",
    "drop_columns = ['id', 'attack_cat']\n",
    "combined_df = combined_df.drop(columns=drop_columns)\n",
    "\n",
    "# Separate features and target labels\n",
    "X = combined_df.drop('label', axis=1)\n",
    "y = combined_df['label']\n",
    "\n",
    "# Label Encoding for categorical columns\n",
    "label_columns = ['proto', 'service', 'state']\n",
    "label_encoder = LabelEncoder()\n",
    "for column in label_columns:\n",
    "    X[column] = label_encoder.fit_transform(X[column])\n",
    "\n",
    "# One-hot encoding for categorical columns\n",
    "X = pd.get_dummies(X, columns=label_columns)\n",
    "\n",
    "# Standard Scaling for numerical columns\n",
    "scaler = StandardScaler()\n",
    "X_scaled = scaler.fit_transform(X)\n"
   ]
  },
  {
   "cell_type": "code",
   "execution_count": 17,
   "id": "52595124",
   "metadata": {},
   "outputs": [],
   "source": [
    "\n",
    "# Apply PCA\n",
    "pca = PCA(n_components=0.95)  # Keep 95% of the variance\n",
    "X_pca = pca.fit_transform(X_scaled)\n",
    "\n",
    "# Split the data back into training and testing sets\n",
    "train_length = len(train_df)\n",
    "X_train_pca = X_pca[:train_length]\n",
    "X_test_pca = X_pca[train_length:]\n",
    "y_train = y[:train_length]\n",
    "y_test = y[train_length:]\n"
   ]
  },
  {
   "cell_type": "code",
   "execution_count": 18,
   "id": "ec3b32f0",
   "metadata": {},
   "outputs": [
    {
     "name": "stdout",
     "output_type": "stream",
     "text": [
      "Fitting 5 folds for each of 100 candidates, totalling 500 fits\n",
      "XGBoost Accuracy: 0.8890048533999464\n"
     ]
    }
   ],
   "source": [
    "\n",
    "# Initialize XGBoost Classifier\n",
    "xgb_model = XGBClassifier()\n",
    "\n",
    "# Create the hyperparameter grid\n",
    "xgb_param_dist = {\n",
    "    'n_estimators': [10, 50, 100, 200],\n",
    "    'learning_rate': [0.01, 0.05, 0.1],\n",
    "    'max_depth': [3, 5, 7, 9],\n",
    "    'colsample_bytree': [0.3, 0.5, 0.7],\n",
    "    'gamma': [0, 0.1, 0.2]\n",
    "}\n",
    "\n",
    "# Create and evaluate the pipeline with XGBoost\n",
    "xgb_pipeline = Pipeline(steps=[('model', RandomizedSearchCV(xgb_model, param_distributions=xgb_param_dist, \n",
    "                                                            n_iter=100, cv=5, verbose=2, \n",
    "                                                            random_state=42, n_jobs=-1))])\n",
    "\n",
    "# Fit the model\n",
    "xgb_pipeline.fit(X_train_pca, y_train)\n",
    "\n",
    "# Make predictions and evaluate\n",
    "y_pred_xgb = xgb_pipeline.predict(X_test_pca)\n",
    "accuracy_xgb = accuracy_score(y_test, y_pred_xgb)\n",
    "print(f'XGBoost Accuracy: {accuracy_xgb}')\n"
   ]
  },
  {
   "cell_type": "code",
   "execution_count": 19,
   "id": "638c2643",
   "metadata": {},
   "outputs": [
    {
     "data": {
      "text/plain": [
       "['optimized_xgboost_model.pkl']"
      ]
     },
     "execution_count": 19,
     "metadata": {},
     "output_type": "execute_result"
    }
   ],
   "source": [
    "\n",
    "import joblib\n",
    "\n",
    "# Save the model to disk\n",
    "joblib.dump(xgb_pipeline, 'optimized_xgboost_model.pkl')\n"
   ]
  },
  {
   "cell_type": "code",
   "execution_count": 20,
   "id": "c334a29b",
   "metadata": {},
   "outputs": [],
   "source": [
    "\n",
    "# Load the model from disk for inference\n",
    "loaded_xgb_pipeline = joblib.load('optimized_xgboost_model.pkl')\n",
    "\n",
    "# Example of making predictions\n",
    "# new_predictions = loaded_xgb_pipeline.predict(new_data_pca)\n"
   ]
  }
 ],
 "metadata": {
  "kernelspec": {
   "display_name": "Python 3",
   "language": "python",
   "name": "python3"
  },
  "language_info": {
   "codemirror_mode": {
    "name": "ipython",
    "version": 3
   },
   "file_extension": ".py",
   "mimetype": "text/x-python",
   "name": "python",
   "nbconvert_exporter": "python",
   "pygments_lexer": "ipython3",
   "version": "3.11.5"
  }
 },
 "nbformat": 4,
 "nbformat_minor": 5
}
